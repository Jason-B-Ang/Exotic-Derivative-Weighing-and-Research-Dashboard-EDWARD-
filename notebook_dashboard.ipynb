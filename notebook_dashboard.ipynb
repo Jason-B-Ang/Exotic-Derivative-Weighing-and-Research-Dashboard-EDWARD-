{
 "cells": [
  {
   "cell_type": "code",
   "execution_count": 2,
   "outputs": [],
   "source": [
    "import numpy as np\n",
    "import pandas as pd\n",
    "import yfinance as yf # Yahoo Finance API\n",
    "from datetime import datetime\n",
    "from pprint import pprint # make printing data more readable\n",
    "from treasury.client import FederalTreasuryClient # Fedearal Open Source Treasury API\n",
    "import matplotlib.pyplot as plt # just in case we need to graph\n",
    "# ticker_symbol_input = yf.Ticker(\"MSFT\")\n",
    "# print(ticker_symbol_input.info)"
   ],
   "metadata": {
    "collapsed": false,
    "pycharm": {
     "name": "#%%\n"
    }
   }
  },
  {
   "cell_type": "code",
   "execution_count": 3,
   "outputs": [
    {
     "name": "stdout",
     "output_type": "stream",
     "text": [
      "Current date 2022-11-11; difference between dates 0.0; upper case ticker TSLA; market 195.74; dividend rate 0: \n",
      "Got error from yahoo api for ticker TSLA=F, Error: {'code': 'Not Found', 'description': 'No data found, symbol may be delisted'}\n",
      "[*********************100%***********************]  1 of 1 completed\n",
      "\n",
      "1 Failed download:\n",
      "- TSLA=F: No data found for this date range, symbol may be delisted\n"
     ]
    },
    {
     "data": {
      "text/plain": "<Figure size 1152x576 with 1 Axes>",
      "image/png": "[encoded data removed]"
     },
     "metadata": {
      "needs_background": "light"
     },
     "output_type": "display_data"
    }
   ],
   "source": [
    "# parent/super class\n",
    "class EDWARD_dashboard:\n",
    "    def __init__(self, ticker_symbol: str, exercise_price: float, expiration_date: str, captial: float, risk_tol: float):\n",
    "        self.ticker_symbol = ticker_symbol.upper()\n",
    "        self.current_date = datetime.now().strftime(\"%Y-%m-%d\")\n",
    "        # self.contract_type = contract_type\n",
    "        self.exercise_price = exercise_price\n",
    "        self.expiration_date = expiration_date\n",
    "        self.captial = capital\n",
    "        self.risk_tol = risk_tol\n",
    "\n",
    "    def days_between(self):\n",
    "        d1, d2 = datetime.strptime(self.current_date, \"%Y-%m-%d\"), datetime.strptime(self.expiration_date, \"%Y-%m-%d\")\n",
    "        diff_times = (abs((d2 - d1).days))/365\n",
    "        return diff_times\n",
    "\n",
    "    def market_price(self):\n",
    "        ticker_symbol = yf.Ticker(self.ticker_symbol).info\n",
    "        market_price = ticker_symbol['regularMarketPrice']\n",
    "        return market_price # spot price\n",
    "\n",
    "    def risk_free_rate(self):\n",
    "        # still need to use API to find nominal_rate and inflation_rate\n",
    "        risk_free_rate = ((1+nominal_rate)/(1+inflation_rate))\n",
    "        return risk_free_rate\n",
    "\n",
    "    def dividend_yield(self):\n",
    "        ticker_symbol = yf.Ticker(self.ticker_symbol).info\n",
    "        dividend_rate = ticker_symbol['dividendRate']\n",
    "        if dividend_rate == None:\n",
    "            dividend_rate = 0\n",
    "        return dividend_rate\n",
    "\n",
    "\n",
    "    def futures_formula(self):\n",
    "        Price_contract =  self.market_price()*np.e**((self.risk_free_rate()-self.dividend_yield())*(self.days_between()))\n",
    "        return Price_contract\n",
    "\n",
    "\n",
    "    def portfolio(self):\n",
    "        ticker_symbol = yf.Ticker(self.ticker_symbol)\n",
    "        pass\n",
    "\n",
    "    def __str__(self):\n",
    "        return f\"Current date {str(self.current_date)}; difference between dates {str(self.days_between())}; upper case ticker {self.ticker_symbol}; market {self.market_price()}; dividend rate {self.dividend_yield()}: \"\n",
    "\n",
    "tesla = EDWARD_dashboard(\"tSlA\",\"future\",300,\"2022-11-11\")\n",
    "print(tesla)\n",
    "# print(tesla.futures_formula())\n",
    "# tesla.options_data('calls')\n",
    "# tesla.options_data('puts')\n",
    "a = tesla.futures_data()\n",
    "tesla.futures_plot(a)"
   ],
   "metadata": {
    "collapsed": false,
    "pycharm": {
     "name": "#%%\n"
    }
   }
  },
  {
   "cell_type": "code",
   "execution_count": 18,
   "outputs": [
    {
     "ename": "ValueError",
     "evalue": "invalid literal for int() with base 10: ''",
     "output_type": "error",
     "traceback": [
      "\u001B[1;31m---------------------------------------------------------------------------\u001B[0m",
      "\u001B[1;31mValueError\u001B[0m                                Traceback (most recent call last)",
      "Input \u001B[1;32mIn [18]\u001B[0m, in \u001B[0;36m<cell line: 5>\u001B[1;34m()\u001B[0m\n\u001B[0;32m      3\u001B[0m \u001B[38;5;66;03m# ticker_symbol = yf.Ticker(input_symbol)\u001B[39;00m\n\u001B[0;32m      4\u001B[0m input_contract_type \u001B[38;5;241m=\u001B[39m \u001B[38;5;28minput\u001B[39m(\u001B[38;5;124m\"\u001B[39m\u001B[38;5;124mWhat contracct type would you like to use (Futures, Options, Swaps)? \u001B[39m\u001B[38;5;124m\"\u001B[39m)\n\u001B[1;32m----> 5\u001B[0m input_exercise_price \u001B[38;5;241m=\u001B[39m \u001B[38;5;28;43mint\u001B[39;49m\u001B[43m(\u001B[49m\u001B[38;5;28;43minput\u001B[39;49m\u001B[43m(\u001B[49m\u001B[38;5;124;43m\"\u001B[39;49m\u001B[38;5;124;43mWhat price would you like to exercise the shares at? \u001B[39;49m\u001B[38;5;124;43m\"\u001B[39;49m\u001B[43m)\u001B[49m\u001B[43m)\u001B[49m\n\u001B[0;32m      6\u001B[0m input_expiration_date \u001B[38;5;241m=\u001B[39m \u001B[38;5;28minput\u001B[39m(\u001B[38;5;124m\"\u001B[39m\u001B[38;5;124mWhat date would you like to set the expiration? (Y-M-D)\u001B[39m\u001B[38;5;124m\"\u001B[39m)\n",
      "\u001B[1;31mValueError\u001B[0m: invalid literal for int() with base 10: ''"
     ]
    }
   ],
   "source": [
    "# User Inputs\n",
    "input_symbol = input(\"Ticker Symbol you would like to use? \")\n",
    "# ticker_symbol = yf.Ticker(input_symbol)\n",
    "capital = input(\"How much Capital would you like to invest \")\n",
    "risk_tol = input(\"How much Capital would you like to invest \")\n",
    "input_exercise_price = int(input(\"What price would you like to exercise the shares at? \"))\n",
    "input_expiration_date = input(\"What date would you like to set the expiration? (Y-M-D)\")\n",
    "# EDWARD_dashboard(input_symbol, input_exercise_price, input_expiration_date, capital, risk_tol)\n"
   ],
   "metadata": {
    "collapsed": false,
    "pycharm": {
     "name": "#%%\n"
    }
   }
  },
  {
   "cell_type": "code",
   "execution_count": null,
   "outputs": [],
   "source": [
    "\"\"\"\n",
    "Risk Free Rate Calculator based on 3-Month US treasury Bill Rates\n",
    "Author: ranaroussi\n",
    "link: https://gist.github.com/ranaroussi/72d0e92bbe31d1514baccf00175049e4\n",
    "\"\"\"\n",
    "# de-annualize yearly interest rates\n",
    "def deannualize(annual_rate, periods=365):\n",
    "    return (1 + annual_rate) ** (1/periods) - 1\n",
    "\n",
    "def get_risk_free_rate():\n",
    "    # download 3-month us treasury bills rates\n",
    "    annualized = yf.download(\"^IRX\")[\"Adj Close\"]\n",
    "\n",
    "    # de-annualize\n",
    "    daily = annualized.apply(deannualize)\n",
    "\n",
    "    # create dataframe\n",
    "    return pd.DataFrame({\"annualized\": annualized, \"daily\": daily})\n",
    "\n",
    "if __name__ == \"__main__\":\n",
    "    rates = get_risk_free_rate()\n",
    "    print(rates.tail())"
   ],
   "metadata": {
    "collapsed": false,
    "pycharm": {
     "name": "#%%\n"
    }
   }
  },
  {
   "cell_type": "code",
   "execution_count": null,
   "outputs": [],
   "source": [],
   "metadata": {
    "collapsed": false,
    "pycharm": {
     "name": "#%%\n"
    }
   }
  }
 ],
 "metadata": {
  "kernelspec": {
   "display_name": "Python 3",
   "language": "python",
   "name": "python3"
  },
  "language_info": {
   "codemirror_mode": {
    "name": "ipython",
    "version": 2
   },
   "file_extension": ".py",
   "mimetype": "text/x-python",
   "name": "python",
   "nbconvert_exporter": "python",
   "pygments_lexer": "ipython2",
   "version": "2.7.6"
  }
 },
 "nbformat": 4,
 "nbformat_minor": 0
}