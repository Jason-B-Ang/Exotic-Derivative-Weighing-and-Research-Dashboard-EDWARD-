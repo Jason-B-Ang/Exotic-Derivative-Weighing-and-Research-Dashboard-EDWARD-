{
 "cells": [
  {
   "cell_type": "code",
   "execution_count": 4,
   "outputs": [
    {
     "data": {
      "text/plain": "'\\nPricing of stock futures and construction of a portfolio containing both underlying equity\\nand futures as a hedge.\\n\\nAttributes\\n++++++++++++++++++++++++++++++++++++++++++++++++++++++++++++++++\\n\\nticker: str\\n    ticker of underlying stock\\n\\ns: float\\n    spot price of underlying stock, in united states dollars $\\n\\nt0: str\\n    current date\\n\\ntf: str\\n    expiration date\\n\\nq: float\\n    dividend yield, in percentage %, default = 0.00%\\n\\ntol: float\\n    risk tolerance, in percentage %, default = 0.00%\\n\\nliq: float\\n    user liquidity, in united states dollars $, default = $10,000\\n\\nshares: float\\n    user position in underlying stock, in united states dollars $, default = 100 * s\\n\\n'"
     },
     "execution_count": 4,
     "metadata": {},
     "output_type": "execute_result"
    }
   ],
   "source": [
    "from datetime import datetime  # calculating time until expiration\n",
    "import numpy as np  # performing numerical methods\n",
    "import pandas as pd  # printing dataframes\n",
    "import yfinance as yf # retrieving financial data\n",
    "import csv # csv library\n",
    "\n",
    "\"\"\"\n",
    "Pricing of stock futures and construction of a portfolio containing both underlying equity\n",
    "and futures as a hedge.\n",
    "\n",
    "Attributes\n",
    "++++++++++++++++++++++++++++++++++++++++++++++++++++++++++++++++\n",
    "\n",
    "ticker: str\n",
    "    ticker of underlying stock\n",
    "\n",
    "s: float\n",
    "    spot price of underlying stock, in united states dollars $\n",
    "\n",
    "t0: str\n",
    "    current date\n",
    "\n",
    "tf: str\n",
    "    expiration date\n",
    "\n",
    "q: float\n",
    "    dividend yield, in percentage %, default = 0.00%\n",
    "\n",
    "tol: float\n",
    "    risk tolerance, in percentage %, default = 0.00%\n",
    "\n",
    "liq: float\n",
    "    user liquidity, in united states dollars $, default = $10,000\n",
    "\n",
    "shares: float\n",
    "    user position in underlying stock, in united states dollars $, default = 100 * s\n",
    "\n",
    "\"\"\""
   ],
   "metadata": {
    "collapsed": false,
    "pycharm": {
     "name": "#%%\n"
    }
   }
  },
  {
   "cell_type": "code",
   "execution_count": 3,
   "outputs": [
    {
     "name": "stdout",
     "output_type": "stream",
     "text": [
      "Current date 2022-11-11; difference between dates 0.0; upper case ticker TSLA; market 195.74; dividend rate 0: \n",
      "Got error from yahoo api for ticker TSLA=F, Error: {'code': 'Not Found', 'description': 'No data found, symbol may be delisted'}\n",
      "[*********************100%***********************]  1 of 1 completed\n",
      "\n",
      "1 Failed download:\n",
      "- TSLA=F: No data found for this date range, symbol may be delisted\n"
     ]
    },
    {
     "data": {
      "text/plain": "<Figure size 1152x576 with 1 Axes>",
      "image/png": "[encoded data removed]"
     },
     "metadata": {
      "needs_background": "light"
     },
     "output_type": "display_data"
    }
   ],
   "source": [
    "# parent/super class\n",
    "class Hedge:\n",
    "    def __init__(self, s: float, t0: str, tf: str, tol: float = 0.00, liq: float = 10000, shares: float = 100, ticker =\"GSPC\"):\n",
    "        assert (1 <= len(ticker) <= 5);  # ticker symbol must have between one and five characters\n",
    "        assert s >= 0  # stock price cannot be less than $0.00\n",
    "        assert q >= 0 # dividend yield cannot be less than 0.00%\n",
    "        assert tol >= 0  # risk tolerance cannot be less than 0.00%\n",
    "        assert liq >= 10000  # user must have at least $10,000 in liquidity\n",
    "        assert shares >= 0.00  # user must have at least 100 shares in underlying equity\n",
    "        # ticker symbol\n",
    "        self.ticker = yf.Ticker(ticker.upper()).info\n",
    "        # spot price\n",
    "        self.s = float(self.ticker['regularMarketPrice'])\n",
    "        # risk free rate\n",
    "        self.rf = self.risk_free_rate()\n",
    "        # dividend yield\n",
    "        self.q = float(self.ticker['dividendRate'])\n",
    "        # intial date\n",
    "        self.t0 = datetime.strptime(t0, \"%Y-%m-%d\")\n",
    "        #final date\n",
    "        self.tf = datetime.strptime(tf, \"%Y-%m-%d\")\n",
    "        # porportion of time from intial to final\n",
    "        self.t = float(((self.tf  -self.t0) / 365))\n",
    "        # risk tolerance\n",
    "        self.tol = float(tol)\n",
    "        # Capital/liquid money\n",
    "        self.liq = float(liq)\n",
    "        # total value of number of shares\n",
    "        self.shares = float(shares * self.s);\n",
    "\n",
    "    def risk_free_rate(self): # calculate risk-free rate of return\n",
    "        rates = pd.read_csv('rates.csv')\n",
    "\n",
    "        if 0 < self.t <= 1 / 12:\n",
    "            nominal = rates[\"1 Mo\"].mean()\n",
    "        elif 1 / 12 < self.t <= 1 / 6:\n",
    "            nominal = rates[\"2 Mo\"].mean()\n",
    "        elif 1 / 6 < self.t <= 1 / 4:\n",
    "            nominal = rates[\"3 Mo\"].mean()\n",
    "        elif 1 / 4 < self.t <= 1 / 3:\n",
    "            nominal = rates[\"4 Mo\"].mean()\n",
    "        elif 1 / 3 < self.t <= 1 / 2:\n",
    "            nominal = rates[\"6 Mo\"].mean()\n",
    "        elif 1 /  2 < self.t <= 1:\n",
    "            nominal = rates[\"1 yr\"].mean()\n",
    "        elif 1 < self.t <= 2:\n",
    "            nominal = rates[\"2 Yr\"].mean()\n",
    "        elif 2 < self.t <= 3:\n",
    "            nominal = rates[\"3 Yr\"].mean()\n",
    "        elif 3 < self.t <= 5:\n",
    "            nominal = rates[\"5 Yr\"].mean()\n",
    "        elif 5 < self.t <= 7:\n",
    "            nominal = rates[\"7 Yr\"].mean()\n",
    "        elif 7 < self.t <= 10:\n",
    "            nominal = rates[\"10 Yr\"].mean()\n",
    "        elif 10 < self.t <= 20:\n",
    "            nominal = rates[\"20 Yr\"].mean()\n",
    "        elif 20 < self.t <= 30:\n",
    "            nominal = rates[\"30 Yr\"].mean()\n",
    "\n",
    "        return (1 + nominal) / (1 + 0.077)\n",
    "\n",
    "    def benchmark_rate(self): # calculate performance of a benchmark\n",
    "        his_table = yf.download(\"GSPC\", self.t0-(self.t*365))['Adj Close']\n",
    "        hist_s = his_table.loc[self.t0-(self.t*365)][self.ticker]\n",
    "        benchmark_rate = abs(hist_s-self.s)/hist_s\n",
    "        return benchmark_rate\n",
    "\n",
    "        # set the S&P as the default benchmark\n",
    "        \"\"\"\"\n",
    "            add implementation\n",
    "        \"\"\"\n",
    "        pass;\n",
    "\n",
    "    def pricing(self): # pricing of a singular futures contract on underlying equity\n",
    "        if self.q == None:\n",
    "            self.q = 0\n",
    "        return float(100 * self.s * np.e**((self.rf - self.q)*self.t));\n",
    "\n",
    "    def beta(self): # covariance function sotck value and futures contract\n",
    "        stock_table = yf.download(self.ticker, self.t0)\n",
    "        # return np.cov(abc, xyz)\n",
    "\n",
    "    def expected_return(self): # calculate the expected return (w/ respect to a benchmark)\n",
    "        return float(self.risk_free_rate() + self.beta()*(Hedge.benchmark_rate() - self.risk_free_rate()));\n",
    "\n",
    "    def n(self): # calculate the ideal number of futures contracts on the underlying equity\n",
    "        return float(Hedge.beta() * self.shares / self.pricing());\n",
    "\n",
    "    def portfolio(self,): # construct an ideal portfolio, containing the user's existing\n",
    "                                # position in the underlying equity and n futures contracts\n",
    "\n",
    "        pass\n",
    "\n",
    "    def basis_risk(self): # calculate basis risk of portfolio\n",
    "        return float(Hedge.n() * (self.s - self.pricing()));\n",
    "\n",
    "    def metrics(self): # calculate performance & risk metric of portfolio\n",
    "\n",
    "        pass\n",
    "\n",
    "    def _str_(self):\n",
    "\n",
    "        pass\n",
    "\n",
    "\n",
    "tesla = EDWARD_dashboard(\"tSlA\",\"future\",300,\"2022-11-11\")\n",
    "print(tesla)\n",
    "# print(tesla.futures_formula())\n",
    "# tesla.options_data('calls')\n",
    "# tesla.options_data('puts')\n",
    "a = tesla.futures_data()\n",
    "tesla.futures_plot(a)"
   ],
   "metadata": {
    "collapsed": false,
    "pycharm": {
     "name": "#%%\n"
    }
   }
  },
  {
   "cell_type": "code",
   "execution_count": 18,
   "outputs": [
    {
     "ename": "ValueError",
     "evalue": "invalid literal for int() with base 10: ''",
     "output_type": "error",
     "traceback": [
      "\u001B[1;31m---------------------------------------------------------------------------\u001B[0m",
      "\u001B[1;31mValueError\u001B[0m                                Traceback (most recent call last)",
      "Input \u001B[1;32mIn [18]\u001B[0m, in \u001B[0;36m<cell line: 5>\u001B[1;34m()\u001B[0m\n\u001B[0;32m      3\u001B[0m \u001B[38;5;66;03m# ticker_symbol = yf.Ticker(input_symbol)\u001B[39;00m\n\u001B[0;32m      4\u001B[0m input_contract_type \u001B[38;5;241m=\u001B[39m \u001B[38;5;28minput\u001B[39m(\u001B[38;5;124m\"\u001B[39m\u001B[38;5;124mWhat contracct type would you like to use (Futures, Options, Swaps)? \u001B[39m\u001B[38;5;124m\"\u001B[39m)\n\u001B[1;32m----> 5\u001B[0m input_exercise_price \u001B[38;5;241m=\u001B[39m \u001B[38;5;28;43mint\u001B[39;49m\u001B[43m(\u001B[49m\u001B[38;5;28;43minput\u001B[39;49m\u001B[43m(\u001B[49m\u001B[38;5;124;43m\"\u001B[39;49m\u001B[38;5;124;43mWhat price would you like to exercise the shares at? \u001B[39;49m\u001B[38;5;124;43m\"\u001B[39;49m\u001B[43m)\u001B[49m\u001B[43m)\u001B[49m\n\u001B[0;32m      6\u001B[0m input_expiration_date \u001B[38;5;241m=\u001B[39m \u001B[38;5;28minput\u001B[39m(\u001B[38;5;124m\"\u001B[39m\u001B[38;5;124mWhat date would you like to set the expiration? (Y-M-D)\u001B[39m\u001B[38;5;124m\"\u001B[39m)\n",
      "\u001B[1;31mValueError\u001B[0m: invalid literal for int() with base 10: ''"
     ]
    }
   ],
   "source": [
    "# User Inputs\n",
    "input_symbol = input(\"Ticker Symbol you would like to use? \")\n",
    "# ticker_symbol = yf.Ticker(input_symbol)\n",
    "capital = input(\"How much Capital would you like to invest \")\n",
    "risk_tol = input(\"How much Capital would you like to invest \")\n",
    "input_exercise_price = int(input(\"What price would you like to exercise the shares at? \"))\n",
    "input_expiration_date = input(\"What date would you like to set the expiration? (Y-M-D)\")\n",
    "# EDWARD_dashboard(input_symbol, input_exercise_price, input_expiration_date, capital, risk_tol)\n"
   ],
   "metadata": {
    "collapsed": false,
    "pycharm": {
     "name": "#%%\n"
    }
   }
  },
  {
   "cell_type": "code",
   "execution_count": 14,
   "outputs": [
    {
     "name": "stdout",
     "output_type": "stream",
     "text": [
      "['Date', '1 Mo', '2 Mo', '3 Mo', '4 Mo', '6 Mo', '1 Yr', '2 Yr', '3 Yr', '5 Yr', '7 Yr', '10 Yr', '20 Yr', '30 Yr']\n"
     ]
    }
   ],
   "source": [
    "# with open(\"rates.csv\", 'r') as file:\n",
    "#     rates = csv.reader(file)\n",
    "#     for row in rates:\n",
    "#         print(row)\n",
    "#         break"
   ],
   "metadata": {
    "collapsed": false,
    "pycharm": {
     "name": "#%%\n"
    }
   }
  },
  {
   "cell_type": "code",
   "execution_count": 1,
   "outputs": [],
   "source": [
    "rates = pd.read_csv('rates.csv')\n",
    "\n",
    "if 0 < self.t <= 1 / 12:\n",
    "    nominal = rates[\"1 Mo\"].mean()\n",
    "elif 1 / 12 < self.t <= 1 / 6:\n",
    "    nominal = rates[\"2 Mo\"].mean()\n",
    "elif 1 / 6 < self.t <= 1 / 4:\n",
    "    nominal = rates[\"3 Mo\"].mean()\n",
    "elif 1 / 4 < self.t <= 1 / 3:\n",
    "    nominal = rates[\"4 Mo\"].mean()\n",
    "elif 1 / 3 < self.t <= 1 / 2:\n",
    "    nominal = rates[\"6 Mo\"].mean()\n",
    "elif 1 /  2 < self.t <= 1:\n",
    "    nominal = rates[\"1 yr\"].mean()\n",
    "elif 1 < self.t <= 2:\n",
    "    nominal = rates[\"2 Yr\"].mean()\n",
    "elif 2 < self.t <= 3:\n",
    "    nominal = rates[\"3 Yr\"].mean()\n",
    "elif 3 < self.t <= 5:\n",
    "    nominal = rates[\"5 Yr\"].mean()\n",
    "elif 5 < self.t <= 7:\n",
    "    nominal = rates[\"7 Yr\"].mean()\n",
    "elif 7 < self.t <= 10:\n",
    "    nominal = rates[\"10 Yr\"].mean()\n",
    "elif 10 < self.t <= 20:\n",
    "    nominal = rates[\"20 Yr\"].mean()\n",
    "elif 20 < self.t <= 30:\n",
    "    nominal = rates[\"30 Yr\"].mean()\n",
    "\n",
    "print((1 + nominal) / (1 + 0.077))"
   ],
   "metadata": {
    "collapsed": false,
    "pycharm": {
     "name": "#%%\n"
    }
   }
  },
  {
   "cell_type": "code",
   "execution_count": null,
   "outputs": [],
   "source": [],
   "metadata": {
    "collapsed": false,
    "pycharm": {
     "name": "#%%\n"
    }
   }
  }
 ],
 "metadata": {
  "kernelspec": {
   "display_name": "Python 3",
   "language": "python",
   "name": "python3"
  },
  "language_info": {
   "codemirror_mode": {
    "name": "ipython",
    "version": 2
   },
   "file_extension": ".py",
   "mimetype": "text/x-python",
   "name": "python",
   "nbconvert_exporter": "python",
   "pygments_lexer": "ipython2",
   "version": "2.7.6"
  }
 },
 "nbformat": 4,
 "nbformat_minor": 0
}