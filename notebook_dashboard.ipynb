{
 "cells": [
  {
   "cell_type": "code",
   "execution_count": null,
   "outputs": [],
   "source": [
    "\n",
    "from datetime import datetime  # calculating time until expiration\n",
    "import numpy as np  # performing numerical methods\n",
    "import pandas as pd  # printing dataframes\n",
    "import yfinance as yf # retrieving financial data"
   ],
   "metadata": {
    "collapsed": false,
    "pycharm": {
     "name": "#%%\n"
    }
   }
  },
  {
   "cell_type": "code",
   "execution_count": null,
   "outputs": [],
   "source": [
    "\n",
    "# parent/super class\n",
    "\"\"\"\n",
    "Pricing of stock futures and construction of a portfolio containing both underlying equity\n",
    "and futures as a hedge.\n",
    "\n",
    "Attributes\n",
    "++++++++++++++++++++++++++++++++++++++++++++++++++++++++++++++++\n",
    "\n",
    "ticker: str\n",
    "    ticker of underlying stock\n",
    "\n",
    "spot_price: float\n",
    "    spot price of underlying stock, in united states dollars $\n",
    "\n",
    "initial_time: str\n",
    "    current date\n",
    "\n",
    "final_time: str\n",
    "    expiration date\n",
    "\n",
    "dividend: float\n",
    "    dividend yield, in percentage %, default = 0.00%\n",
    "\n",
    "risk_tolerance: float\n",
    "    risk tolerance, in percentage %, default = 0.00%\n",
    "\n",
    "cap: float\n",
    "    user capital, in united states dollars $, default = $10,000\n",
    "\n",
    "shares: float\n",
    "    user position in underlying stock, in united states dollars $, default = 100 * s\n",
    "year_time: date\n",
    "    proportion of diff in time \n",
    "liquid: float\n",
    "    Liquid/capital money (user inputted)\n",
    "    \n",
    "\n",
    "\"\"\"\n",
    "\n",
    "class Edward_Dashboard:\n",
    "    def __init__(self, ticker: str, final_time: str, r_tol: float = 0.00,liquid: float=1000, cap: float = 10000, shares: float = 100):\n",
    "        assert (1 <= len(ticker) <= 5),  'ticker symbol must have between one and five characters'\n",
    "        assert r_tol >= 0, 'risk tolerance cannot be less than 0.00%'\n",
    "        assert cap >= 10000,  'user must have at least $10,000 in capital'\n",
    "        assert shares >= 0.00, 'user must have at least 100 shares in underlying equity'\n",
    "        self.ticker_symbol = ticker\n",
    "        # ticker symbol(user inputted )\n",
    "        self.ticker = yf.Ticker(ticker.upper()).info\n",
    "        self.tickerObj =yf.Ticker(ticker.upper())\n",
    "        # spot price\n",
    "        s = float(self.ticker['regularMarketPrice'])\n",
    "        assert s >= 0.00,  'stock price cannot be less than $0.00, cannot use this stock'\n",
    "        self.spot_price = s\n",
    "    \n",
    "        # intial time(not user inputted )\n",
    "        current_date = datetime.now()\n",
    "        time = f\"{current_date.year}-{current_date.month}-{current_date.day}\"\n",
    "        self.initial_time = datetime.strptime(time, \"%Y-%m-%d\")\n",
    "        # final time(user inputted)\n",
    "        self.final_time = datetime.strptime(final_time, \"%Y-%m-%d\")\n",
    "        print(self.final_time)\n",
    "        # porpotion of diff in time\n",
    "        self.year_time = (self.final_time - self.initial_time).days/365\n",
    "        print(self.year_time)\n",
    "        # risk tolerance\n",
    "        self.risk_tolerance = float(r_tol)\n",
    "        # liquid/captial money(user inputted)\n",
    "        self.liquid = float(liquid)\n",
    "        # total value of shares (user inputted)\n",
    "        self.shares = float(shares * self.spot_price)\n",
    "        #total capital\n",
    "        self.cap = float(cap)\n",
    "    def get_historical_data(self):\n",
    "        temp_csv_str = f\"{self.ticker_symbol}.csv\"\n",
    "        temp_csv = self.tickerObj.history(period =\"max\").to_csv(temp_csv_str)\n",
    "        new_history_df = pd.read_csv(temp_csv_str)\n",
    "        historical_data_close= new_history_df[[\"Date\",\"Close\"]]\n",
    "        return historical_data_close\n",
    "    def div_rate(self):\n",
    "        #this is the dividend rate from the info of the function\n",
    "        #this is the dividend rate from the most recent year\n",
    "        dividend_list = self.tickerObj.dividends.to_list()\n",
    "        if len(dividend_list) != 0:\n",
    "            return dividend_list[-1]\n",
    "        \n",
    "    def risk_free_rate(self): # calculate risk-free rate of return\n",
    "        rates = pd.read_csv('rates.csv')\n",
    "\n",
    "        if 0 < self.year_time <= 1 / 12:\n",
    "            nominal = rates['1 Mo'].mean()\n",
    "        elif 1 / 12 < self.year_time <= 1 / 6:\n",
    "            nominal = rates['2 Mo'].mean()\n",
    "        elif 1 / 6 < self.year_time <= 1 / 4:\n",
    "            nominal = rates['3 Mo'].mean()\n",
    "        elif 1 / 4 < self.year_time <= 1 / 3:\n",
    "            nominal = rates['4 Mo'].mean()\n",
    "        elif 1 / 3 < self.year_time <= 1 / 2:\n",
    "            nominal = rates['6 Mo'].mean()\n",
    "        elif 1 /  2 < self.year_time <= 1:\n",
    "            nominal = rates['1 Yr'].mean()\n",
    "        elif 1 < self.year_time<= 2:\n",
    "            nominal = rates['2 Yr'].mean()\n",
    "        elif 2 < self.year_time <= 3:\n",
    "            nominal = rates['3 Yr'].mean()\n",
    "        elif 3 < self.year_time <= 5:\n",
    "            nominal = rates['5 Yr'].mean()\n",
    "        elif 5 < self.year_time <= 7:\n",
    "            nominal = rates['7 Yr'].mean()\n",
    "        elif 7 < self.year_time <= 10:\n",
    "            nominal = rates['10 Yr'].mean()\n",
    "        elif 10 < self.year_time <= 20:\n",
    "            nominal = rates['20 Yr'].mean()\n",
    "        elif 20 < self.year_time <= 30:\n",
    "            nominal = rates['30 Yr'].mean()\n",
    "\n",
    "        return (1 + nominal) / (1 + 0.077) - 1\n",
    "\n",
    "    def benchmark_rate(self): # calculate performance of a benchmark\n",
    "        # set the S&P as the default benchmark\n",
    "        gspc = yf.Ticker('^GSPC').info\n",
    "        print(gspc)\n",
    "        print(self.initial_time - (self.year_time * 365))\n",
    "        hist_table = yf.download(gspc, self.initial_time-(self.year_time*365))['Adj Close']\n",
    "        hist_s = hist_table.loc[self.initial_time-(self.year_time*365)][gspc]\n",
    "        benchmark_rate = abs(gspc['regularMarketPrice']- hist_s)/hist_s\n",
    "        return benchmark_rate\n",
    "\n",
    "    def pricing(self,time: float,price: float): # pricing of a singular futures contract on underlying equity\n",
    "        if self.div_rate() is None:\n",
    "            div_rate = 0\n",
    "        else:\n",
    "            div_rate = self.div_rate()\n",
    "            \n",
    "        return 100 * price * np.e**(self.risk_free_rate() - (div_rate*time))\n",
    "\n",
    "    def beta(self): # covariance function\n",
    "        #get the historical data beginning to end\n",
    "        historical_data = self.get_historical_data()\n",
    "        hist_price = [price for price in historical_data[\"Close\"]]\n",
    "        future_price = []\n",
    "        for i in range(len(hist_price)):\n",
    "            future_price.append(self.pricing(time = 1/52, price = hist_price[i]))\n",
    "        return np.cov(hist_price,future_price)[0,1]\n",
    "            \n",
    "\n",
    "\n",
    "    def expected_return(self): # calculate the expected return (w/ respect to a benchmark)\n",
    "        return float(self.risk_free_rate() + self.beta()*(self.benchmark_rate() - self.risk_free_rate()))\n",
    "\n",
    "    def n(self): # calculate the ideal number of futures contracts on the underlying equity\n",
    "        return float(self.beta() * self.shares / self.pricing(1/52,self.spot_price))\n",
    "\n",
    "    def portfolio(self): # construct an ideal portfolio, containing the user's existing\n",
    "        # position in the underlying equity and n futures contracts\n",
    "        data = [(\"stock\", self.shares / self.spot_price, \"$\" + str(self.shares)),\n",
    "                    (\"futures\", self.n(), \"$\" + str(self.n() * self.pricing(1/52,self.spot_price)))]\n",
    "\n",
    "        portfolio = pd.DataFrame(data, columns = [\"Instrument\", \" Qty\", \"Value\"])\n",
    "\n",
    "        return portfolio\n",
    "\n",
    "    def basis_risk(self): # calculate basis risk of portfolio\n",
    "        return float(self.n() * (self.spot_price - self.pricing(1/52,self.spot_price)))\n",
    "\n",
    "    def metrics(self): # calculate performance & risk metric of portfolio\n",
    "        \"\"\"\"\n",
    "            add implementation\n",
    "        \"\"\"\n",
    "        pass;\n",
    "\n",
    "    def _str_(self):\n",
    "        return f\"risk-free-rate{self.risk_free_rate()}, benchmark rate {self.benchmark_rate()}, pricing {self.pricing(1/52,self.spot_price)}, beta {self.beta()}, expect_return {self.expected_return()}, number of future contracts (100 share per contract) {self.n()}, protfolio {self.portfolio()}, basis risk {self.basis_risk()}, metrics {self.metrics()}\"\n",
    "        pass\n",
    "\n"
   ],
   "metadata": {
    "collapsed": false,
    "pycharm": {
     "name": "#%%\n"
    }
   }
  },
  {
   "cell_type": "code",
   "execution_count": null,
   "outputs": [],
   "source": [
    "#practicing with microsoft stock \n",
    " #stock1 = Edward_Dashboard(\"MSFT\", s: float,  tf: str, tol: float = 0.00, cap: float = 10000, shares: float = 100)\n"
   ],
   "metadata": {
    "collapsed": false,
    "pycharm": {
     "name": "#%%\n"
    }
   }
  },
  {
   "cell_type": "code",
   "execution_count": null,
   "outputs": [],
   "source": [
    "msft= Edward_Dashboard(\"msft\",\"2022-11-27\",300)"
   ],
   "metadata": {
    "collapsed": false,
    "pycharm": {
     "name": "#%%\n"
    }
   }
  },
  {
   "cell_type": "code",
   "execution_count": null,
   "outputs": [],
   "source": [
    "msft.ticker_symbol"
   ],
   "metadata": {
    "collapsed": false,
    "pycharm": {
     "name": "#%%\n"
    }
   }
  },
  {
   "cell_type": "code",
   "execution_count": null,
   "outputs": [],
   "source": [
    "msft.spot_price"
   ],
   "metadata": {
    "collapsed": false,
    "pycharm": {
     "name": "#%%\n"
    }
   }
  },
  {
   "cell_type": "code",
   "execution_count": null,
   "outputs": [],
   "source": [
    "msft.cap"
   ],
   "metadata": {
    "collapsed": false,
    "pycharm": {
     "name": "#%%\n"
    }
   }
  },
  {
   "cell_type": "code",
   "execution_count": null,
   "outputs": [],
   "source": [
    "msft.initial_time"
   ],
   "metadata": {
    "collapsed": false,
    "pycharm": {
     "name": "#%%\n"
    }
   }
  },
  {
   "cell_type": "code",
   "execution_count": null,
   "outputs": [],
   "source": [
    "msft.final_time"
   ],
   "metadata": {
    "collapsed": false,
    "pycharm": {
     "name": "#%%\n"
    }
   }
  },
  {
   "cell_type": "code",
   "execution_count": null,
   "outputs": [],
   "source": [
    "msft.year_time"
   ],
   "metadata": {
    "collapsed": false,
    "pycharm": {
     "name": "#%%\n"
    }
   }
  },
  {
   "cell_type": "code",
   "execution_count": null,
   "outputs": [],
   "source": [
    "msft.risk_tolerance"
   ],
   "metadata": {
    "collapsed": false,
    "pycharm": {
     "name": "#%%\n"
    }
   }
  },
  {
   "cell_type": "code",
   "execution_count": null,
   "outputs": [],
   "source": [
    "msft.liquid"
   ],
   "metadata": {
    "collapsed": false,
    "pycharm": {
     "name": "#%%\n"
    }
   }
  },
  {
   "cell_type": "code",
   "execution_count": null,
   "outputs": [],
   "source": [
    "msft.tickerObj"
   ],
   "metadata": {
    "collapsed": false,
    "pycharm": {
     "name": "#%%\n"
    }
   }
  },
  {
   "cell_type": "code",
   "execution_count": null,
   "outputs": [],
   "source": [
    "msft.div_rate()"
   ],
   "metadata": {
    "collapsed": false,
    "pycharm": {
     "name": "#%%\n"
    }
   }
  },
  {
   "cell_type": "code",
   "execution_count": null,
   "outputs": [],
   "source": [
    "msft.risk_free_rate()"
   ],
   "metadata": {
    "collapsed": false,
    "pycharm": {
     "name": "#%%\n"
    }
   }
  },
  {
   "cell_type": "code",
   "execution_count": null,
   "outputs": [],
   "source": [
    "msft.get_historical_data()"
   ],
   "metadata": {
    "collapsed": false,
    "pycharm": {
     "name": "#%%\n"
    }
   }
  },
  {
   "cell_type": "code",
   "execution_count": null,
   "outputs": [],
   "source": [
    "msft.beta()\n"
   ],
   "metadata": {
    "collapsed": false,
    "pycharm": {
     "name": "#%%\n"
    }
   }
  },
  {
   "cell_type": "code",
   "execution_count": null,
   "outputs": [],
   "source": [
    "msft.pricing(1/52, .0608085505664348 )"
   ],
   "metadata": {
    "collapsed": false,
    "pycharm": {
     "name": "#%%\n"
    }
   }
  },
  {
   "cell_type": "code",
   "execution_count": null,
   "outputs": [],
   "source": [
    "print(beta_array[0,0],beta_array[0,1],beta_array[1,0],\n",
    "beta_array[1,1])\n",
    "\n",
    "\n"
   ],
   "metadata": {
    "collapsed": false,
    "pycharm": {
     "name": "#%%\n"
    }
   }
  },
  {
   "cell_type": "code",
   "execution_count": null,
   "outputs": [],
   "source": [
    "help(msft)"
   ],
   "metadata": {
    "collapsed": false,
    "pycharm": {
     "name": "#%%\n"
    }
   }
  },
  {
   "cell_type": "code",
   "execution_count": null,
   "outputs": [],
   "source": [
    "msft.n()"
   ],
   "metadata": {
    "collapsed": false,
    "pycharm": {
     "name": "#%%\n"
    }
   }
  },
  {
   "cell_type": "code",
   "execution_count": null,
   "metadata": {},
   "outputs": [],
   "source": [
    "msft.spot_price"
   ]
  },
  {
   "cell_type": "code",
   "execution_count": null,
   "metadata": {},
   "outputs": [],
   "source": [
    "msft.cap"
   ]
  },
  {
   "cell_type": "code",
   "execution_count": null,
   "metadata": {},
   "outputs": [],
   "source": [
    "msft.initial_time"
   ]
  },
  {
   "cell_type": "code",
   "execution_count": null,
   "metadata": {},
   "outputs": [],
   "source": [
    "msft.final_time"
   ]
  },
  {
   "cell_type": "code",
   "execution_count": null,
   "metadata": {},
   "outputs": [],
   "source": [
    "msft.year_time"
   ]
  },
  {
   "cell_type": "code",
   "execution_count": null,
   "metadata": {},
   "outputs": [],
   "source": [
    "msft.risk_tolerance"
   ]
  },
  {
   "cell_type": "code",
   "execution_count": null,
   "metadata": {},
   "outputs": [],
   "source": [
    "msft.liquid"
   ]
  },
  {
   "cell_type": "code",
   "execution_count": null,
   "metadata": {},
   "outputs": [],
   "source": [
    "msft.tickerObj"
   ]
  },
  {
   "cell_type": "code",
   "execution_count": null,
   "metadata": {},
   "outputs": [],
   "source": [
    "msft.div_rate()"
   ]
  },
  {
   "cell_type": "code",
   "execution_count": null,
   "metadata": {},
   "outputs": [],
   "source": [
    "msft.risk_free_rate()"
   ]
  },
  {
   "cell_type": "code",
   "execution_count": null,
   "metadata": {},
   "outputs": [],
   "source": [
    "msft.get_historical_data()"
   ]
  },
  {
   "cell_type": "code",
   "execution_count": null,
   "metadata": {},
   "outputs": [],
   "source": [
    "msft.beta()\n"
   ]
  },
  {
   "cell_type": "code",
   "execution_count": null,
   "metadata": {},
   "outputs": [],
   "source": [
    "msft.pricing(1/52, .0608085505664348 )"
   ]
  },
  {
   "cell_type": "code",
   "execution_count": null,
   "metadata": {},
   "outputs": [],
   "source": [
    "print(beta_array[0,0],beta_array[0,1],beta_array[1,0],\n",
    "beta_array[1,1])\n",
    "\n",
    "\n"
   ]
  },
  {
   "cell_type": "code",
   "execution_count": null,
   "metadata": {},
   "outputs": [],
   "source": [
    "help(msft)"
   ]
  },
  {
   "cell_type": "code",
   "execution_count": null,
   "metadata": {},
   "outputs": [],
   "source": [
    "msft.n()"
   ]
  },
  {
   "cell_type": "code",
   "execution_count": null,
   "metadata": {},
   "outputs": [],
   "source": []
  }
 ],
 "metadata": {
  "kernelspec": {
   "display_name": "Python 3.10.8 64-bit",
   "language": "python",
   "name": "python3"
  },
  "language_info": {
   "codemirror_mode": {
    "name": "ipython",
    "version": 3
   },
   "file_extension": ".py",
   "mimetype": "text/x-python",
   "name": "python",
   "nbconvert_exporter": "python",
   "pygments_lexer": "ipython3",
   "version": "3.10.8"
  },
  "vscode": {
   "interpreter": {
    "hash": "a42ccb73e7d9bfdf27e036f1d2b8b681e55fc0743cc5586bc2474d4a60f4b886"
   }
  }
 },
 "nbformat": 4,
 "nbformat_minor": 1
}