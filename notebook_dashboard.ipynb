{
 "cells": [
  {
   "cell_type": "code",
   "execution_count": 3,
   "metadata": {
    "collapsed": true,
    "pycharm": {
     "name": "#%%\n"
    }
   },
   "outputs": [],
   "source": [
    "import numpy as np\n",
    "import pandas as pd\n",
    "import yfinance as yf\n",
    "import time\n",
    "\n",
    "# ticker_symbol_input = yf.Ticker(\"MSFT\")\n",
    "# print(ticker_symbol_input.info)"
   ]
  },
  {
   "cell_type": "code",
   "execution_count": 3,
   "outputs": [],
   "source": [
    "# parent/super class\n",
    "class Investment_Dashboard:\n",
    "    def __init__(self, ticker_symbol, current_date, contract_type, exercise_price, expiration_date):\n",
    "        self.ticker_symbol = ticker_symbol\n",
    "        self.current_date = current_date\n",
    "        self.contract_type = contract_type\n",
    "        self.exercise_price = exercise_price\n",
    "        self.expiration_date = expiration_date\n",
    "\n",
    "    def portfolio(self):\n",
    "        pass\n",
    "\n",
    "    def futures_formula(self, spot_price, risk_free_rate, dividend_yield):\n",
    "        Price_contract =  spot_price * np.e**((risk_free_rate)* (self.expiration_date- self.current_date))\n"
   ],
   "metadata": {
    "collapsed": false,
    "pycharm": {
     "name": "#%%\n"
    }
   }
  },
  {
   "cell_type": "code",
   "execution_count": 4,
   "outputs": [],
   "source": [
    "\n"
   ],
   "metadata": {
    "collapsed": false,
    "pycharm": {
     "name": "#%%\n"
    }
   }
  },
  {
   "cell_type": "code",
   "execution_count": 5,
   "outputs": [],
   "source": [],
   "metadata": {
    "collapsed": false,
    "pycharm": {
     "name": "#%%\n"
    }
   }
  },
  {
   "cell_type": "code",
   "execution_count": 6,
   "outputs": [],
   "source": [],
   "metadata": {
    "collapsed": false,
    "pycharm": {
     "name": "#%%\n"
    }
   }
  }
 ],
 "metadata": {
  "kernelspec": {
   "display_name": "Python 3",
   "language": "python",
   "name": "python3"
  },
  "language_info": {
   "codemirror_mode": {
    "name": "ipython",
    "version": 2
   },
   "file_extension": ".py",
   "mimetype": "text/x-python",
   "name": "python",
   "nbconvert_exporter": "python",
   "pygments_lexer": "ipython2",
   "version": "2.7.6"
  }
 },
 "nbformat": 4,
 "nbformat_minor": 0
}