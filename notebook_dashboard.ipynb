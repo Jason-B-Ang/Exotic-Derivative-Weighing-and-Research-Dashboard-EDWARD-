{
 "cells": [
  {
   "cell_type": "code",
   "execution_count": 2,
   "outputs": [],
   "source": [
    "import numpy as np\n",
    "import pandas as pd\n",
    "import yfinance as yf # Yahoo Finance API\n",
    "from datetime import datetime\n",
    "from pprint import pprint # make printing data more readable\n",
    "from treasury.client import FederalTreasuryClient # Fedearal Open Source Treasury API\n",
    "import plotly.graph_objs as graph # just in case we need to graph\n",
    "# ticker_symbol_input = yf.Ticker(\"MSFT\")\n",
    "# print(ticker_symbol_input.info)"
   ],
   "metadata": {
    "collapsed": false,
    "pycharm": {
     "name": "#%%\n"
    }
   }
  },
  {
   "cell_type": "code",
   "execution_count": null,
   "outputs": [],
   "source": [
    "# parent/super class\n",
    "class EDWARD_dashboard:\n",
    "    def __init__(self, ticker_symbol: str,  contract_type: str, exercise_price: int, expiration_date: str):\n",
    "        self.ticker_symbol = ticker_symbol.upper()\n",
    "        self.current_date = datetime.now().strftime(\"%Y-%m-%d\")\n",
    "        self.contract_type = contract_type\n",
    "        self.exercise_price = exercise_price\n",
    "        self.expiration_date = expiration_date\n",
    "\n",
    "    def days_between(self):\n",
    "        d1, d2 = datetime.strptime(self.current_date, \"%Y-%m-%d\"), datetime.strptime(self.expiration_date, \"%Y-%m-%d\")\n",
    "        diff_times = abs((d2 - d1).days)\n",
    "        return diff_times\n",
    "\n",
    "    def market_price(self):\n",
    "        ticker_symbol = yf.Ticker(self.ticker_symbol).info\n",
    "        market_price = ticker_symbol['regularMarketPrice']\n",
    "        return market_price # spot price\n",
    "\n",
    "    def risk_free_rate(self):\n",
    "        # still need to use API to find nominal_rate and inflation_rate\n",
    "        risk_free_rate = ((1+nominal_rate)/(1+inflation_rate))\n",
    "\n",
    "    def dividend_yield(self):\n",
    "        ticker_symbol = yf.Ticker(self.ticker_symbol).info\n",
    "        dividend_rate = ticker_symbol['dividendRate']\n",
    "        if dividend_rate == None:\n",
    "            dividend_rate = 0\n",
    "        return dividend_rate\n",
    "\n",
    "    def options_data(self, type): # type can by calls or puts\n",
    "        try:\n",
    "            option_data = yf.Ticker(self.ticker_symbol).option_chain(date=self.expiration_date)\n",
    "            print(f\"Could find a matching expiration date for {self.ticker_symbol} {type} options\")\n",
    "        except ValueError:\n",
    "            print(f\"Expirations date chosen isn't available for this stock: {self.ticker_symbol} Here is list of Available {type} options \")\n",
    "            option_data = yf.Ticker(self.ticker_symbol).option_chain()\n",
    "        if type == 'calls':\n",
    "            return option_data.calls\n",
    "        else:\n",
    "            return option_data.puts\n",
    "\n",
    "    def futures_formula(self):\n",
    "        Price_contract =  self.market_price()*np.e**((self.risk_free_rate()-self.dividend_yield())*(self.days_between()))\n",
    "        return Price_contract\n",
    "\n",
    "    def relationship_futuresprice_exepctedspotprice(self, k): #k is an investor’s required return for this investment. Ask  if formula is right\n",
    "        # ask if this method is neccessary or repetitive of the futures_method and also incomplete method at the moment\n",
    "        indicator = np.e**((self.risk_free_rate()-k) * self.days_between())\n",
    "        if indicator == 0:\n",
    "            return f\"No systematic risk\"\n",
    "        elif indicator < 0:\n",
    "            return f\"Negative sytematic risk\"\n",
    "        elif indicator > 0:\n",
    "            return f\"Positive systematic risk\"\n",
    "        pass\n",
    "\n",
    "    def portfolio(self):\n",
    "        ticker_symbol = yf.Ticker(self.ticker_symbol)\n",
    "        pass\n",
    "\n",
    "    def __str__(self):\n",
    "        return f\"Current date {str(self.current_date)}; difference between dates {str(self.days_between())}; upper case ticker {self.ticker_symbol}; market {self.market_price()}; dividend rate {self.dividend_yield()}: \"\n",
    "\n",
    "tesla = EDWARD_dashboard(\"tSlA\",\"future\",300,\"2022-11-11\")\n",
    "print(tesla)\n",
    "# print(tesla.futures_formula())\n",
    "# tesla.options_data('calls')\n",
    "tesla.options_data('puts')\n"
   ],
   "metadata": {
    "collapsed": false,
    "pycharm": {
     "name": "#%%\n",
     "is_executing": true
    }
   }
  },
  {
   "cell_type": "code",
   "execution_count": null,
   "outputs": [],
   "source": [
    "# User Inputs\n",
    "input_symbol = input(\"Ticker Symbol you would like to use? \")\n",
    "# ticker_symbol = yf.Ticker(input_symbol)\n",
    "input_contract_type = input(\"What contracct type would you like to use (Futures, Options, Swaps)? \")\n",
    "input_exercise_price = int(input(\"What price would you like to exercise the shares at? \"))\n",
    "input_expiration_date = input(\"What date would you like to set the expiration? (Y-M-D)\")\n",
    "# EDWARD_dashboard(input_symbol, input_contract_type, input_exercise_price, input_expiration_date)\n"
   ],
   "metadata": {
    "collapsed": false,
    "pycharm": {
     "name": "#%%\n",
     "is_executing": true
    }
   }
  }
 ],
 "metadata": {
  "kernelspec": {
   "display_name": "Python 3",
   "language": "python",
   "name": "python3"
  },
  "language_info": {
   "codemirror_mode": {
    "name": "ipython",
    "version": 2
   },
   "file_extension": ".py",
   "mimetype": "text/x-python",
   "name": "python",
   "nbconvert_exporter": "python",
   "pygments_lexer": "ipython2",
   "version": "2.7.6"
  }
 },
 "nbformat": 4,
 "nbformat_minor": 0
}