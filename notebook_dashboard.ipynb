{
 "cells": [
  {
   "cell_type": "code",
   "execution_count": 2,
   "outputs": [],
   "source": [
    "import numpy as np\n",
    "import pandas as pd\n",
    "import yfinance as yf # Yahoo Finance API\n",
    "from datetime import datetime\n",
    "from pprint import pprint # make printing data more readable\n",
    "from treasury.client import FederalTreasuryClient # Fedearal Open Source Treasury API\n",
    "import plotly.graph_objs as graph # just in case we need to graph\n",
    "# ticker_symbol_input = yf.Ticker(\"MSFT\")\n",
    "# print(ticker_symbol_input.info)"
   ],
   "metadata": {
    "collapsed": false,
    "pycharm": {
     "name": "#%%\n"
    }
   }
  },
  {
   "cell_type": "code",
   "execution_count": 3,
   "outputs": [
    {
     "name": "stdout",
     "output_type": "stream",
     "text": [
      "Current date 2022-11-07; difference between dates 4; upper case ticker TSLA; market 202.8339; dividend rate 0: \n",
      "Could find a matching expiration date for TSLA puts options\n"
     ]
    },
    {
     "data": {
      "text/plain": "         contractSymbol             lastTradeDate  strike  lastPrice     bid  \\\n0   TSLA221111P00100000 2022-11-07 14:44:40+00:00   100.0       0.01    0.00   \n1   TSLA221111P00110000 2022-11-07 14:31:26+00:00   110.0       0.01    0.01   \n2   TSLA221111P00120000 2022-11-07 14:41:01+00:00   120.0       0.02    0.02   \n3   TSLA221111P00130000 2022-11-07 14:39:56+00:00   130.0       0.04    0.03   \n4   TSLA221111P00140000 2022-11-07 14:48:22+00:00   140.0       0.05    0.04   \n..                  ...                       ...     ...        ...     ...   \n57  TSLA221111P00335000 2022-11-02 18:00:21+00:00   335.0     112.20  130.90   \n58  TSLA221111P00340000 2022-11-03 14:22:38+00:00   340.0     122.30  138.20   \n59  TSLA221111P00345000 2022-11-03 15:04:10+00:00   345.0     124.50  142.85   \n60  TSLA221111P00350000 2022-10-20 19:21:41+00:00   350.0     142.95  146.50   \n61  TSLA221111P00400000 2022-11-04 13:55:02+00:00   400.0     181.40  197.85   \n\n       ask  change  percentChange  volume  openInterest  impliedVolatility  \\\n0     0.01   -0.01     -50.000000    26.0         10574           1.875001   \n1     0.02   -0.02     -66.666670   681.0          1052           1.781251   \n2     0.04    0.00       0.000000    30.0          2185           1.648439   \n3     0.04   -0.01     -20.000002  1030.0          3841           1.437503   \n4     0.05   -0.01     -16.666664  1403.0          3693           1.250004   \n..     ...     ...            ...     ...           ...                ...   \n57  131.75    0.00       0.000000     1.0             0           0.000010   \n58  138.85    0.00       0.000000     2.0             0           2.553715   \n59  143.65    0.00       0.000000     NaN             0           2.499027   \n60  147.50    0.00       0.000000    31.0             0           2.099614   \n61  198.70    0.00       0.000000     1.0             0           3.037112   \n\n    inTheMoney contractSize currency  \n0        False      REGULAR      USD  \n1        False      REGULAR      USD  \n2        False      REGULAR      USD  \n3        False      REGULAR      USD  \n4        False      REGULAR      USD  \n..         ...          ...      ...  \n57        True      REGULAR      USD  \n58        True      REGULAR      USD  \n59        True      REGULAR      USD  \n60        True      REGULAR      USD  \n61        True      REGULAR      USD  \n\n[62 rows x 14 columns]",
      "text/html": "<div>\n<style scoped>\n    .dataframe tbody tr th:only-of-type {\n        vertical-align: middle;\n    }\n\n    .dataframe tbody tr th {\n        vertical-align: top;\n    }\n\n    .dataframe thead th {\n        text-align: right;\n    }\n</style>\n<table border=\"1\" class=\"dataframe\">\n  <thead>\n    <tr style=\"text-align: right;\">\n      <th></th>\n      <th>contractSymbol</th>\n      <th>lastTradeDate</th>\n      <th>strike</th>\n      <th>lastPrice</th>\n      <th>bid</th>\n      <th>ask</th>\n      <th>change</th>\n      <th>percentChange</th>\n      <th>volume</th>\n      <th>openInterest</th>\n      <th>impliedVolatility</th>\n      <th>inTheMoney</th>\n      <th>contractSize</th>\n      <th>currency</th>\n    </tr>\n  </thead>\n  <tbody>\n    <tr>\n      <th>0</th>\n      <td>TSLA221111P00100000</td>\n      <td>2022-11-07 14:44:40+00:00</td>\n      <td>100.0</td>\n      <td>0.01</td>\n      <td>0.00</td>\n      <td>0.01</td>\n      <td>-0.01</td>\n      <td>-50.000000</td>\n      <td>26.0</td>\n      <td>10574</td>\n      <td>1.875001</td>\n      <td>False</td>\n      <td>REGULAR</td>\n      <td>USD</td>\n    </tr>\n    <tr>\n      <th>1</th>\n      <td>TSLA221111P00110000</td>\n      <td>2022-11-07 14:31:26+00:00</td>\n      <td>110.0</td>\n      <td>0.01</td>\n      <td>0.01</td>\n      <td>0.02</td>\n      <td>-0.02</td>\n      <td>-66.666670</td>\n      <td>681.0</td>\n      <td>1052</td>\n      <td>1.781251</td>\n      <td>False</td>\n      <td>REGULAR</td>\n      <td>USD</td>\n    </tr>\n    <tr>\n      <th>2</th>\n      <td>TSLA221111P00120000</td>\n      <td>2022-11-07 14:41:01+00:00</td>\n      <td>120.0</td>\n      <td>0.02</td>\n      <td>0.02</td>\n      <td>0.04</td>\n      <td>0.00</td>\n      <td>0.000000</td>\n      <td>30.0</td>\n      <td>2185</td>\n      <td>1.648439</td>\n      <td>False</td>\n      <td>REGULAR</td>\n      <td>USD</td>\n    </tr>\n    <tr>\n      <th>3</th>\n      <td>TSLA221111P00130000</td>\n      <td>2022-11-07 14:39:56+00:00</td>\n      <td>130.0</td>\n      <td>0.04</td>\n      <td>0.03</td>\n      <td>0.04</td>\n      <td>-0.01</td>\n      <td>-20.000002</td>\n      <td>1030.0</td>\n      <td>3841</td>\n      <td>1.437503</td>\n      <td>False</td>\n      <td>REGULAR</td>\n      <td>USD</td>\n    </tr>\n    <tr>\n      <th>4</th>\n      <td>TSLA221111P00140000</td>\n      <td>2022-11-07 14:48:22+00:00</td>\n      <td>140.0</td>\n      <td>0.05</td>\n      <td>0.04</td>\n      <td>0.05</td>\n      <td>-0.01</td>\n      <td>-16.666664</td>\n      <td>1403.0</td>\n      <td>3693</td>\n      <td>1.250004</td>\n      <td>False</td>\n      <td>REGULAR</td>\n      <td>USD</td>\n    </tr>\n    <tr>\n      <th>...</th>\n      <td>...</td>\n      <td>...</td>\n      <td>...</td>\n      <td>...</td>\n      <td>...</td>\n      <td>...</td>\n      <td>...</td>\n      <td>...</td>\n      <td>...</td>\n      <td>...</td>\n      <td>...</td>\n      <td>...</td>\n      <td>...</td>\n      <td>...</td>\n    </tr>\n    <tr>\n      <th>57</th>\n      <td>TSLA221111P00335000</td>\n      <td>2022-11-02 18:00:21+00:00</td>\n      <td>335.0</td>\n      <td>112.20</td>\n      <td>130.90</td>\n      <td>131.75</td>\n      <td>0.00</td>\n      <td>0.000000</td>\n      <td>1.0</td>\n      <td>0</td>\n      <td>0.000010</td>\n      <td>True</td>\n      <td>REGULAR</td>\n      <td>USD</td>\n    </tr>\n    <tr>\n      <th>58</th>\n      <td>TSLA221111P00340000</td>\n      <td>2022-11-03 14:22:38+00:00</td>\n      <td>340.0</td>\n      <td>122.30</td>\n      <td>138.20</td>\n      <td>138.85</td>\n      <td>0.00</td>\n      <td>0.000000</td>\n      <td>2.0</td>\n      <td>0</td>\n      <td>2.553715</td>\n      <td>True</td>\n      <td>REGULAR</td>\n      <td>USD</td>\n    </tr>\n    <tr>\n      <th>59</th>\n      <td>TSLA221111P00345000</td>\n      <td>2022-11-03 15:04:10+00:00</td>\n      <td>345.0</td>\n      <td>124.50</td>\n      <td>142.85</td>\n      <td>143.65</td>\n      <td>0.00</td>\n      <td>0.000000</td>\n      <td>NaN</td>\n      <td>0</td>\n      <td>2.499027</td>\n      <td>True</td>\n      <td>REGULAR</td>\n      <td>USD</td>\n    </tr>\n    <tr>\n      <th>60</th>\n      <td>TSLA221111P00350000</td>\n      <td>2022-10-20 19:21:41+00:00</td>\n      <td>350.0</td>\n      <td>142.95</td>\n      <td>146.50</td>\n      <td>147.50</td>\n      <td>0.00</td>\n      <td>0.000000</td>\n      <td>31.0</td>\n      <td>0</td>\n      <td>2.099614</td>\n      <td>True</td>\n      <td>REGULAR</td>\n      <td>USD</td>\n    </tr>\n    <tr>\n      <th>61</th>\n      <td>TSLA221111P00400000</td>\n      <td>2022-11-04 13:55:02+00:00</td>\n      <td>400.0</td>\n      <td>181.40</td>\n      <td>197.85</td>\n      <td>198.70</td>\n      <td>0.00</td>\n      <td>0.000000</td>\n      <td>1.0</td>\n      <td>0</td>\n      <td>3.037112</td>\n      <td>True</td>\n      <td>REGULAR</td>\n      <td>USD</td>\n    </tr>\n  </tbody>\n</table>\n<p>62 rows × 14 columns</p>\n</div>"
     },
     "execution_count": 3,
     "metadata": {},
     "output_type": "execute_result"
    }
   ],
   "source": [
    "# parent/super class\n",
    "class EDWARD_dashboard:\n",
    "    def __init__(self, ticker_symbol: str,  contract_type: str, exercise_price: int, expiration_date: str):\n",
    "        self.ticker_symbol = ticker_symbol.upper()\n",
    "        self.current_date = datetime.now().strftime(\"%Y-%m-%d\")\n",
    "        self.contract_type = contract_type\n",
    "        self.exercise_price = exercise_price\n",
    "        self.expiration_date = expiration_date\n",
    "\n",
    "    def days_between(self):\n",
    "        d1, d2 = datetime.strptime(self.current_date, \"%Y-%m-%d\"), datetime.strptime(self.expiration_date, \"%Y-%m-%d\")\n",
    "        diff_times = abs((d2 - d1).days)\n",
    "        return diff_times\n",
    "\n",
    "    def market_price(self):\n",
    "        ticker_symbol = yf.Ticker(self.ticker_symbol).info\n",
    "        market_price = ticker_symbol['regularMarketPrice']\n",
    "        return market_price # spot price\n",
    "\n",
    "    def risk_free_rate(self):\n",
    "        # still need to use API to find nominal_rate and inflation_rate\n",
    "        risk_free_rate = ((1+nominal_rate)/(1+inflation_rate))\n",
    "        return risk_free_rate\n",
    "\n",
    "    def dividend_yield(self):\n",
    "        ticker_symbol = yf.Ticker(self.ticker_symbol).info\n",
    "        dividend_rate = ticker_symbol['dividendRate']\n",
    "        if dividend_rate == None:\n",
    "            dividend_rate = 0\n",
    "        return dividend_rate\n",
    "\n",
    "    def options_data(self, type): # type can by calls or puts\n",
    "        try:\n",
    "            option_data = yf.Ticker(self.ticker_symbol).option_chain(date=self.expiration_date)\n",
    "            print(f\"Could find a matching expiration date for {self.ticker_symbol} {type} options\")\n",
    "        except ValueError:\n",
    "            print(f\"Expirations date chosen isn't available for this stock: {self.ticker_symbol} Here is list of Available {type} options \")\n",
    "            option_data = yf.Ticker(self.ticker_symbol).option_chain()\n",
    "        if type == 'calls':\n",
    "            return option_data.calls\n",
    "        elif type =='puts':\n",
    "            return option_data.puts\n",
    "\n",
    "    def futures_formula(self):\n",
    "        Price_contract =  self.market_price()*np.e**((self.risk_free_rate()-self.dividend_yield())*(self.days_between()))\n",
    "        return Price_contract\n",
    "\n",
    "    def relationship_futuresprice_exepctedspotprice(self, k): #k is an investor’s required return for this investment. Ask  if formula is right\n",
    "        # ask if this method is neccessary or repetitive of the futures_method and also incomplete method at the moment\n",
    "        indicator = np.e**((self.risk_free_rate()-k) * self.days_between())\n",
    "        if indicator == 0:\n",
    "            return f\"No systematic risk\"\n",
    "        elif indicator < 0:\n",
    "            return f\"Negative sytematic risk\"\n",
    "        elif indicator > 0:\n",
    "            return f\"Positive systematic risk\"\n",
    "        pass\n",
    "\n",
    "    def portfolio(self):\n",
    "        ticker_symbol = yf.Ticker(self.ticker_symbol)\n",
    "        pass\n",
    "\n",
    "    def __str__(self):\n",
    "        return f\"Current date {str(self.current_date)}; difference between dates {str(self.days_between())}; upper case ticker {self.ticker_symbol}; market {self.market_price()}; dividend rate {self.dividend_yield()}: \"\n",
    "\n",
    "tesla = EDWARD_dashboard(\"tSlA\",\"future\",300,\"2022-11-11\")\n",
    "print(tesla)\n",
    "# print(tesla.futures_formula())\n",
    "# tesla.options_data('calls')\n",
    "tesla.options_data('puts')\n"
   ],
   "metadata": {
    "collapsed": false,
    "pycharm": {
     "name": "#%%\n"
    }
   }
  },
  {
   "cell_type": "code",
   "execution_count": null,
   "outputs": [],
   "source": [
    "# User Inputs\n",
    "input_symbol = input(\"Ticker Symbol you would like to use? \")\n",
    "# ticker_symbol = yf.Ticker(input_symbol)\n",
    "input_contract_type = input(\"What contracct type would you like to use (Futures, Options, Swaps)? \")\n",
    "input_exercise_price = int(input(\"What price would you like to exercise the shares at? \"))\n",
    "input_expiration_date = input(\"What date would you like to set the expiration? (Y-M-D)\")\n",
    "# EDWARD_dashboard(input_symbol, input_contract_type, input_exercise_price, input_expiration_date)\n"
   ],
   "metadata": {
    "collapsed": false,
    "pycharm": {
     "name": "#%%\n",
     "is_executing": true
    }
   }
  },
  {
   "cell_type": "code",
   "execution_count": 5,
   "outputs": [
    {
     "name": "stdout",
     "output_type": "stream",
     "text": [
      "[*********************100%***********************]  1 of 1 completed\n",
      "            annualized     daily\n",
      "Date                            \n",
      "2022-11-01       4.050  0.004447\n",
      "2022-11-02       4.025  0.004433\n",
      "2022-11-03       4.025  0.004433\n",
      "2022-11-04       4.013  0.004426\n",
      "2022-11-07       4.000  0.004419\n"
     ]
    }
   ],
   "source": [
    "\"\"\"\n",
    "Risk Free Rate Calculator based on 3-Month US treasury Bill Rates\n",
    "Author: ranaroussi\n",
    "link: https://gist.github.com/ranaroussi/72d0e92bbe31d1514baccf00175049e4\n",
    "\"\"\"\n",
    "# de-annualize yearly interest rates\n",
    "def deannualize(annual_rate, periods=365):\n",
    "    return (1 + annual_rate) ** (1/periods) - 1\n",
    "\n",
    "def get_risk_free_rate():\n",
    "    # download 3-month us treasury bills rates\n",
    "    annualized = yf.download(\"^IRX\")[\"Adj Close\"]\n",
    "\n",
    "    # de-annualize\n",
    "    daily = annualized.apply(deannualize)\n",
    "\n",
    "    # create dataframe\n",
    "    return pd.DataFrame({\"annualized\": annualized, \"daily\": daily})\n",
    "\n",
    "if __name__ == \"__main__\":\n",
    "    rates = get_risk_free_rate()\n",
    "    print(rates.tail())"
   ],
   "metadata": {
    "collapsed": false,
    "pycharm": {
     "name": "#%%\n"
    }
   }
  },
  {
   "cell_type": "code",
   "execution_count": null,
   "outputs": [],
   "source": [],
   "metadata": {
    "collapsed": false,
    "pycharm": {
     "name": "#%%\n"
    }
   }
  }
 ],
 "metadata": {
  "kernelspec": {
   "display_name": "Python 3",
   "language": "python",
   "name": "python3"
  },
  "language_info": {
   "codemirror_mode": {
    "name": "ipython",
    "version": 2
   },
   "file_extension": ".py",
   "mimetype": "text/x-python",
   "name": "python",
   "nbconvert_exporter": "python",
   "pygments_lexer": "ipython2",
   "version": "2.7.6"
  }
 },
 "nbformat": 4,
 "nbformat_minor": 0
}