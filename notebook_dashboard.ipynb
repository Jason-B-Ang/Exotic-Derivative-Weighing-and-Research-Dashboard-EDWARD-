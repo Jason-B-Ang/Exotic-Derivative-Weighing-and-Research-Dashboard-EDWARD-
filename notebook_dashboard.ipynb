{
 "cells": [
  {
   "cell_type": "code",
   "execution_count": 25,
   "metadata": {
    "collapsed": true,
    "pycharm": {
     "name": "#%%\n"
    }
   },
   "outputs": [],
   "source": [
    "import numpy as np\n",
    "import pandas as pd\n",
    "import yfinance as yf\n",
    "from datetime import datetime\n",
    "\n",
    "# ticker_symbol_input = yf.Ticker(\"MSFT\")\n",
    "# print(ticker_symbol_input.info)"
   ]
  },
  {
   "cell_type": "code",
   "execution_count": 26,
   "outputs": [
    {
     "name": "stdout",
     "output_type": "stream",
     "text": [
      " current date 2022-11-06; difference between dates  365\n"
     ]
    }
   ],
   "source": [
    "# parent/super class\n",
    "class EDWARD_dashboard:\n",
    "    def __init__(self, ticker_symbol,  contract_type, exercise_price, expiration_date):\n",
    "        self.ticker_symbol = ticker_symbol\n",
    "        self.current_date = datetime.now().strftime(\"%Y-%m-%d\")\n",
    "        self.contract_type = contract_type\n",
    "        self.exercise_price = exercise_price\n",
    "        self.expiration_date = expiration_date\n",
    "\n",
    "    def days_between(self):\n",
    "        d1, d2 = datetime.strptime(self.current_date, \"%Y-%m-%d\"), datetime.strptime(self.expiration_date, \"%Y-%m-%d\")\n",
    "        diff_times = abs((d2 - d1).days)\n",
    "        return diff_times\n",
    "\n",
    "\n",
    "    def portfolio(self):\n",
    "        ticker_symbol = yf.Ticker(self.ticker_symbol)\n",
    "        pass\n",
    "\n",
    "    def futures_formula(self, spot_price, nominal_rate, dividend_yield, inflation_rate):\n",
    "        Price_contract =  spot_price * np.e**(((1+nominal_rate)/(1+inflation_rate))* (self.days_between()))\n",
    "\n",
    "    def __str__(self):\n",
    "        return f\" current date {str(self.current_date)}; difference between dates {str(self.days_between())}\"\n",
    "\n",
    "print(EDWARD_dashboard(3,3,3,\"2023-11-06\"))"
   ],
   "metadata": {
    "collapsed": false,
    "pycharm": {
     "name": "#%%\n"
    }
   }
  },
  {
   "cell_type": "code",
   "execution_count": 28,
   "outputs": [
    {
     "ename": "ValueError",
     "evalue": "invalid literal for int() with base 10: ''",
     "output_type": "error",
     "traceback": [
      "\u001B[1;31m---------------------------------------------------------------------------\u001B[0m",
      "\u001B[1;31mValueError\u001B[0m                                Traceback (most recent call last)",
      "Input \u001B[1;32mIn [28]\u001B[0m, in \u001B[0;36m<cell line: 5>\u001B[1;34m()\u001B[0m\n\u001B[0;32m      3\u001B[0m \u001B[38;5;66;03m# ticker_symbol = yf.Ticker(input_symbol)\u001B[39;00m\n\u001B[0;32m      4\u001B[0m input_contract_type \u001B[38;5;241m=\u001B[39m \u001B[38;5;28minput\u001B[39m(\u001B[38;5;124m\"\u001B[39m\u001B[38;5;124mWhat contracct type would you like to use (Futures, Options, Swaps)? \u001B[39m\u001B[38;5;124m\"\u001B[39m)\n\u001B[1;32m----> 5\u001B[0m input_exercise_price \u001B[38;5;241m=\u001B[39m \u001B[38;5;28;43mint\u001B[39;49m\u001B[43m(\u001B[49m\u001B[38;5;28;43minput\u001B[39;49m\u001B[43m(\u001B[49m\u001B[38;5;124;43m\"\u001B[39;49m\u001B[38;5;124;43mWhat price would you like to exercise the shares at? \u001B[39;49m\u001B[38;5;124;43m\"\u001B[39;49m\u001B[43m)\u001B[49m\u001B[43m)\u001B[49m\n\u001B[0;32m      6\u001B[0m input_expiration_date \u001B[38;5;241m=\u001B[39m \u001B[38;5;28minput\u001B[39m(\u001B[38;5;124m\"\u001B[39m\u001B[38;5;124mWhat date would you like to set the expiration? (Y-M-D)\u001B[39m\u001B[38;5;124m\"\u001B[39m)\n",
      "\u001B[1;31mValueError\u001B[0m: invalid literal for int() with base 10: ''"
     ]
    }
   ],
   "source": [
    "# User Inputs\n",
    "input_symbol = input(\"Ticker Symbol you would like to use? \")\n",
    "# ticker_symbol = yf.Ticker(input_symbol)\n",
    "input_contract_type = input(\"What contracct type would you like to use (Futures, Options, Swaps)? \")\n",
    "input_exercise_price = int(input(\"What price would you like to exercise the shares at? \"))\n",
    "input_expiration_date = input(\"What date would you like to set the expiration? (Y-M-D)\")\n",
    "# EDWARD_dashboard(input_symbol, input_contract_type, input_exercise_price, input_expiration_date)\n"
   ],
   "metadata": {
    "collapsed": false,
    "pycharm": {
     "name": "#%%\n"
    }
   }
  }
 ],
 "metadata": {
  "kernelspec": {
   "display_name": "Python 3",
   "language": "python",
   "name": "python3"
  },
  "language_info": {
   "codemirror_mode": {
    "name": "ipython",
    "version": 2
   },
   "file_extension": ".py",
   "mimetype": "text/x-python",
   "name": "python",
   "nbconvert_exporter": "python",
   "pygments_lexer": "ipython2",
   "version": "2.7.6"
  }
 },
 "nbformat": 4,
 "nbformat_minor": 0
}